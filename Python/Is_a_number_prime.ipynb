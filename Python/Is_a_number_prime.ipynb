{
 "cells": [
  {
   "cell_type": "markdown",
   "metadata": {},
   "source": [
    "### DESCRIPTION:\n",
    "\n",
    "Define a function that takes an integer argument and returns a logical value true or false depending on if the integer is a prime.\n",
    "\n",
    "Per Wikipedia, a prime number ( or a prime ) is a natural number greater than 1 that has no positive divisors other than 1 and itself.\n",
    "\n",
    "#### Requirements\n",
    "- You can assume you will be given an integer input.\n",
    "- You can not assume that the integer will be only positive. You may be given negative numbers as well ( or 0 ).\n",
    "- **NOTE on performance**: There are no fancy optimizations required, but still the most trivial solutions might time out. Numbers go up to 2^31 ( or similar, depending on language ). Looping all the way up to **n**, or **n/2**, will be too slow.\n",
    "\n",
    "#### Example\n",
    "```\n",
    "is_prime(1)  /* false */\n",
    "is_prime(2)  /* true  */\n",
    "is_prime(-1) /* false */\n",
    "```"
   ]
  },
  {
   "cell_type": "code",
   "execution_count": null,
   "metadata": {},
   "outputs": [],
   "source": [
    "def is_prime(num):\n",
    "    if num <=1 :\n",
    "        return False\n",
    "    if num ==2 :\n",
    "        return True\n",
    "    for i in range(2,int((num**0.5)+1)+1):\n",
    "        if (num%i) == 0:\n",
    "            return False\n",
    "    return True"
   ]
  }
 ],
 "metadata": {
  "language_info": {
   "name": "python"
  },
  "orig_nbformat": 4
 },
 "nbformat": 4,
 "nbformat_minor": 2
}
