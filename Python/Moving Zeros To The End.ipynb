{
 "cells": [
  {
   "attachments": {},
   "cell_type": "markdown",
   "metadata": {},
   "source": [
    "## **Moving Zeros To The End**\n",
    "### __Description__\n",
    "Write an algorithm that takes an array and moves all of the zeros to the end, preserving the order of the other elements.\n",
    "```\n",
    "move_zeros([1, 0, 1, 2, 0, 1, 3]) # returns [1, 1, 2, 1, 3, 0, 0]\n",
    "```"
   ]
  },
  {
   "cell_type": "code",
   "execution_count": null,
   "metadata": {},
   "outputs": [],
   "source": [
    "def move_zeros(list):\n",
    "    newList = []\n",
    "    zeroList = []\n",
    "    for item in list:\n",
    "        if(item != 0):\n",
    "            newList.append(item)\n",
    "        else:\n",
    "            zeroList.append(0)\n",
    "    return newList + zeroList"
   ]
  }
 ],
 "metadata": {
  "language_info": {
   "name": "python"
  },
  "orig_nbformat": 4
 },
 "nbformat": 4,
 "nbformat_minor": 2
}
