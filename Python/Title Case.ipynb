{
 "cells": [
  {
   "attachments": {},
   "cell_type": "markdown",
   "metadata": {},
   "source": [
    "### *Description*\n",
    "A string is considered to be in title case if each word in the string is either (a) capitalised (that is, only the first letter of the word is in upper case) or (b) considered to be an exception and put entirely into lower case unless it is the first word, which is always capitalised.\n",
    "\n",
    "Write a function that will convert a string into title case, given an optional list of exceptions (minor words). The list of minor words will be given as a string with each word separated by a space. Your function should ignore the case of the minor words string -- it should behave in the same way even if the case of the minor word string is changed.\n",
    "\n",
    "**Arguments (Haskell)**\n",
    "- First argument: space-delimited list of minor words that must always be lowercase except for the first word in the string.\n",
    "- Second argument: the original string to be converted.\n",
    "\n",
    "**Arguments (Other languages)**\n",
    "- First argument (required): the original string to be converted.\n",
    "- Second argument (optional): space-delimited list of minor words that must always be lowercase except for the first word in the string. The JavaScript/CoffeeScript tests will pass __undefined__ when this argument is unused.\n",
    "\n",
    "### *Example*\n",
    "```\n",
    "- title_case('a clash of KINGS', 'a an the of') # should return: 'A Clash of Kings'\n",
    "- title_case('THE WIND IN THE WILLOWS', 'The In') # should return: 'The Wind in the Willows'\n",
    "- title_case('the quick brown fox') # should return: 'The Quick Brown Fox'\n",
    "```"
   ]
  },
  {
   "attachments": {},
   "cell_type": "markdown",
   "metadata": {},
   "source": [
    "### *Solution*"
   ]
  },
  {
   "cell_type": "code",
   "execution_count": 1,
   "metadata": {},
   "outputs": [],
   "source": [
    "def title_case(title, minor_words=''):\n",
    "    titleWords = title.lower().split(\" \")\n",
    "    minor_words = minor_words.lower().split(\" \")\n",
    "    for i in range(len(titleWords)):\n",
    "        if (titleWords[i] not in minor_words):\n",
    "            titleWords[i] = titleWords[i].title()\n",
    "    titleWords[0]= titleWords[0].title()\n",
    "    return \" \".join(titleWords)"
   ]
  }
 ],
 "metadata": {
  "kernelspec": {
   "display_name": "Python 3",
   "language": "python",
   "name": "python3"
  },
  "language_info": {
   "codemirror_mode": {
    "name": "ipython",
    "version": 3
   },
   "file_extension": ".py",
   "mimetype": "text/x-python",
   "name": "python",
   "nbconvert_exporter": "python",
   "pygments_lexer": "ipython3",
   "version": "3.9.7"
  },
  "orig_nbformat": 4
 },
 "nbformat": 4,
 "nbformat_minor": 2
}
