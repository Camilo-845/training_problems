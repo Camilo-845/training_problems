{
 "cells": [
  {
   "attachments": {},
   "cell_type": "markdown",
   "metadata": {},
   "source": [
    "## **Which are in?**\n",
    "### __Description__\n",
    "Given two arrays of strings a1 and a2 return a sorted array r in lexicographical order of the strings of a1 which are substrings of strings of a2.\n",
    "\n",
    "**Example 1:**\n",
    "```\n",
    "a1 = [\"arp\", \"live\", \"strong\"]\n",
    "\n",
    "a2 = [\"lively\", \"alive\", \"harp\", \"sharp\", \"armstrong\"]\n",
    "\n",
    "returns [\"arp\", \"live\", \"strong\"]\n",
    "```\n",
    "**Example 2:**\n",
    "```\n",
    "a1 = [\"tarp\", \"mice\", \"bull\"]\n",
    "\n",
    "a2 = [\"lively\", \"alive\", \"harp\", \"sharp\", \"armstrong\"]\n",
    "\n",
    "returns []\n",
    "```\n",
    "### Notes:\n",
    "- Arrays are written in \"general\" notation. See \"Your Test Cases\" for examples in your language.\n",
    "- In Shell bash a1 and a2 are strings. The return is a string where words are separated by commas.\n",
    "- Beware: In some languages r must be without duplicates."
   ]
  },
  {
   "cell_type": "code",
   "execution_count": null,
   "metadata": {},
   "outputs": [],
   "source": [
    "def in_array(array1, array2):\n",
    "    words2= \" \".join(array2)\n",
    "    returnArray = []\n",
    "    for word in array1:\n",
    "        if(words2.find(word)!=-1 and word not in returnArray):\n",
    "            returnArray.append(word)\n",
    "    returnArray.sort()\n",
    "    return returnArray"
   ]
  }
 ],
 "metadata": {
  "language_info": {
   "name": "python"
  },
  "orig_nbformat": 4
 },
 "nbformat": 4,
 "nbformat_minor": 2
}
