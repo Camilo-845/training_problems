{
 "cells": [
  {
   "attachments": {},
   "cell_type": "markdown",
   "metadata": {},
   "source": [
    "## Array.diff\n",
    "### DESCRIPTION:\n",
    "Your goal in this kata is to implement a difference function, which subtracts one list from another and returns the result.\n",
    "\n",
    "It should remove all values from list a, which are present in list b keeping their order.\n",
    "```\n",
    "arrayDiff([1,2],[1]) == [2]\n",
    "```\n",
    "If a value is present in b, all of its occurrences must be removed from the other:\n",
    "```\n",
    "arrayDiff([1,2,2,2,3],[2]) == [1,3]\n",
    "```"
   ]
  },
  {
   "cell_type": "code",
   "execution_count": null,
   "metadata": {},
   "outputs": [],
   "source": [
    "def array_diff(a, b):\n",
    "    for num in b:\n",
    "        deletes = a.count(num)\n",
    "        for i in range(deletes):\n",
    "            a.remove(num)\n",
    "    return a"
   ]
  }
 ],
 "metadata": {
  "language_info": {
   "name": "python"
  },
  "orig_nbformat": 4
 },
 "nbformat": 4,
 "nbformat_minor": 2
}
