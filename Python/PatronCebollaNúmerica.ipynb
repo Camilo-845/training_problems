{
 "cells": [
  {
   "cell_type": "markdown",
   "metadata": {},
   "source": [
    "\n",
    "\n",
    "**Título:** Patron Cebolla Númerica\n",
    "\n",
    "**Descripción:**\n",
    "Escribe un programa que genere un patrón numérico centrado en forma de diamante. El patrón debe estar compuesto por números enteros que representen la distancia al centro del diamante. El tamaño del patrón debe ser definido por n.\n",
    "\n",
    "**Requisitos:**\n",
    "1. El programa debe recibir un único argumento `n`, que representa el tamaño del patrón.\n",
    "2. El patrón debe tener una forma cuadrada con dimensiones.\n",
    "\n",
    "**Ejemplo de entrada y salida:**\n",
    "\n",
    "- Si el usuario ingresa `n = 3`, el programa debe generar el siguiente patrón:\n",
    "    ```\n",
    "    3 3 3 3 3\n",
    "    3 2 2 2 3\n",
    "    3 2 1 2 3\n",
    "    3 2 2 2 3\n",
    "    3 3 3 3 3\n",
    "    ```\n",
    "- Si el usuario ingresa `n = 4`, el programa debe generar el siguiente patrón:\n",
    "    ```\n",
    "    4 4 4 4 4 4 4\n",
    "    4 3 3 3 3 3 4\n",
    "    4 3 2 2 2 3 4\n",
    "    4 3 2 1 2 3 4\n",
    "    4 3 2 2 2 3 4\n",
    "    4 3 3 3 3 3 4\n",
    "    4 4 4 4 4 4 4\n",
    "    ```\n",
    "\n",
    "\n",
    "**Restricciones:**\n",
    "- No hacer uso de matrices\n",
    "\n"
   ]
  },
  {
   "cell_type": "code",
   "execution_count": null,
   "metadata": {
    "vscode": {
     "languageId": "plaintext"
    }
   },
   "outputs": [],
   "source": [
    "def imprimir_patron(n):\n",
    "    col = 2 * n - 1\n",
    "    centro = col // 2\n",
    "\n",
    "    for i in range(col):\n",
    "        for j in range(col):\n",
    "            difCol = abs(i - centro)\n",
    "            difFil = abs(j - centro)\n",
    "            if difCol > difFil:\n",
    "                print(difCol + 1, end=\" \")\n",
    "            else:\n",
    "                print(difFil + 1, end=\" \")\n",
    "        print()\n",
    "\n",
    "# Ejemplo de uso\n",
    "n = 9\n",
    "imprimir_patron(n)\n"
   ]
  }
 ],
 "metadata": {
  "language_info": {
   "name": "python"
  }
 },
 "nbformat": 4,
 "nbformat_minor": 2
}
