{
 "cells": [
  {
   "attachments": {},
   "cell_type": "markdown",
   "metadata": {},
   "source": [
    "## **Give me a Diamond**\n",
    "### _Description_\n",
    "Jamie is a programmer, and James' girlfriend. She likes diamonds, and wants a diamond string from James. Since James doesn't know how to make this happen, he needs your help.\n",
    "\n",
    "#### **Task**\n",
    "You need to return a string that looks like a diamond shape when printed on the screen, using asterisk (*) characters. Trailing spaces should be removed, and every line must be terminated with a newline character (\\n).\n",
    "\n",
    "Return null/nil/None/... if the input is an even number or negative, as it is not possible to print a diamond of even or negative size.\n",
    "\n",
    "#### **Examples**\n",
    "A size 3 diamond:\n",
    "```\n",
    " *\n",
    "***\n",
    " *\n",
    "```\n",
    "...which would appear as a string of \" *\\n***\\n *\\n\"\n",
    "\n",
    "A size 5 diamond:\n",
    "```\n",
    "  *\n",
    " ***\n",
    "*****\n",
    " ***\n",
    "  *\n",
    "```\n",
    "...that is:\n",
    "```\n",
    "\"  *\\n ***\\n*****\\n ***\\n  *\\n\"\n",
    "```"
   ]
  },
  {
   "cell_type": "code",
   "execution_count": null,
   "metadata": {},
   "outputs": [],
   "source": [
    "def diamond(n):\n",
    "    if(n<=0 or n%2 == 0):\n",
    "        return None\n",
    "    diamondString = \"\"\n",
    "    for i in range((n//2)+1):\n",
    "        diamondString += (((((n//2))-i)*\" \")+\"*\"+(i * \"**\")+\"\\n\")\n",
    "    for e in range((n//2)-1,-1,-1):\n",
    "        diamondString +=(((((n//2))-e)*\" \")+\"*\"+(e * \"**\")+\"\\n\")\n",
    "    return diamondString\n",
    "print(diamond(1))\n",
    "print(diamond(3))\n",
    "print(diamond(5))\n",
    "print(diamond(7))"
   ]
  },
  {
   "cell_type": "markdown",
   "metadata": {},
   "source": [
    "### Solución #2  12-02-2025"
   ]
  },
  {
   "cell_type": "code",
   "execution_count": null,
   "metadata": {},
   "outputs": [],
   "source": [
    "def diamond(n):\n",
    "    for i in range(n*2-1):\n",
    "        dif = abs(i - (n-1))\n",
    "        puntos = (2*((n-1)-dif))+1\n",
    "        print(\" \"*((((n*2)-1)-puntos//2)) + \"*\"*puntos)\n",
    "\n",
    "diamond(3)\n",
    "diamond(4)\n",
    "diamond(5)\n",
    "diamond(6)"
   ]
  }
 ],
 "metadata": {
  "kernelspec": {
   "display_name": "Python 3",
   "language": "python",
   "name": "python3"
  },
  "language_info": {
   "codemirror_mode": {
    "name": "ipython",
    "version": 3
   },
   "file_extension": ".py",
   "mimetype": "text/x-python",
   "name": "python",
   "nbconvert_exporter": "python",
   "pygments_lexer": "ipython3",
   "version": "3.9.7"
  },
  "orig_nbformat": 4
 },
 "nbformat": 4,
 "nbformat_minor": 2
}
